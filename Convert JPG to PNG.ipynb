{
 "cells": [
  {
   "cell_type": "code",
   "execution_count": null,
   "metadata": {},
   "outputs": [],
   "source": [
    "import os \n",
    "import sys\n",
    "import PIL\n",
    "\n",
    "JPG = sys.argv[1]\n",
    "PNG = sys.argv[2]\n",
    "\n",
    "#check if the file exist, if not, creat a new one\n",
    "if not os.path.exists(PNG):\n",
    "    os.path.mkdir(PNG) \n",
    "\n",
    "for image in os.listdir(JPG): #read all files\n",
    "    img = Image.open(f'{JPG}/{image}')\n",
    "    new_img_name = os.path.splitext(img)[0] #remove .jpg of the orginal name\n",
    "    img.save(f'{PNG}/{new_img_name}.png','png')\n",
    "\n",
    "    \n",
    "    "
   ]
  }
 ],
 "metadata": {
  "kernelspec": {
   "display_name": "Python 3",
   "language": "python",
   "name": "python3"
  },
  "language_info": {
   "codemirror_mode": {
    "name": "ipython",
    "version": 3
   },
   "file_extension": ".py",
   "mimetype": "text/x-python",
   "name": "python",
   "nbconvert_exporter": "python",
   "pygments_lexer": "ipython3",
   "version": "3.7.6"
  }
 },
 "nbformat": 4,
 "nbformat_minor": 4
}
